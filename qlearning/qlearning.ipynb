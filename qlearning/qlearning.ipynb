{
 "cells": [
  {
   "cell_type": "code",
   "execution_count": 20,
   "metadata": {},
   "outputs": [
    {
     "name": "stderr",
     "output_type": "stream",
     "text": [
      "  0%|          | 0/1000 [00:00<?, ?it/s]"
     ]
    },
    {
     "name": "stderr",
     "output_type": "stream",
     "text": [
      "100%|██████████| 1000/1000 [05:15<00:00,  3.16it/s]\n",
      "/tmp/ipykernel_24716/3034542344.py:14: FutureWarning: The behavior of DataFrame concatenation with empty or all-NA entries is deprecated. In a future version, this will no longer exclude empty or all-NA columns when determining the result dtypes. To retain the old behavior, exclude the relevant entries before the concat operation.\n",
      "  log_df = pd.concat([log_df, pd.DataFrame({'lr': lr, 'gamma': 0.99, 'epsilon': 0.99, 'plan_length': len(plan)} , index=[0] )])\n"
     ]
    },
    {
     "name": "stdout",
     "output_type": "stream",
     "text": [
      "attach_to_empty(w1:wagon,m1:machine,p1:place)\n",
      "move(m1:machine,p1:place,p2:place)\n",
      "load(w1:wagon,m1:machine,s1:suitcase,p2:place)\n",
      "move(m1:machine,p2:place,p1:place)\n",
      "move(m1:machine,p1:place,p_ins:place)\n",
      "unload(w1:wagon,m1:machine,s1:suitcase,p_ins:place)\n",
      "inspect(s1:suitcase,p_ins:place)\n",
      "load(w1:wagon,m1:machine,s1:suitcase,p_ins:place)\n",
      "move(m1:machine,p_ins:place,p_ret:place)\n",
      "deliver(w1:wagon,m1:machine,s1:suitcase,p_ret:place)\n"
     ]
    },
    {
     "name": "stderr",
     "output_type": "stream",
     "text": [
      "100%|██████████| 1000/1000 [06:24<00:00,  2.60it/s]\n"
     ]
    },
    {
     "name": "stdout",
     "output_type": "stream",
     "text": [
      "move(m1:machine,p1:place,p_ins:place)\n",
      "move(m1:machine,p_ins:place,p5:place)\n",
      "move(m1:machine,p5:place,p6:place)\n",
      "attach_to_empty(w2:wagon,m1:machine,p6:place)\n",
      "move(m1:machine,p6:place,p_ret:place)\n",
      "move(m1:machine,p_ret:place,p_ins:place)\n",
      "move(m1:machine,p_ins:place,p1:place)\n",
      "attach(w1:wagon,w2:wagon,m1:machine,p1:place)\n",
      "move(m1:machine,p1:place,p2:place)\n",
      "load(w2:wagon,m1:machine,s1:suitcase,p2:place)\n",
      "move(m1:machine,p2:place,p1:place)\n",
      "move(m1:machine,p1:place,p_ins:place)\n",
      "unload(w2:wagon,m1:machine,s1:suitcase,p_ins:place)\n",
      "inspect(s1:suitcase,p_ins:place)\n",
      "load(w2:wagon,m1:machine,s1:suitcase,p_ins:place)\n",
      "move(m1:machine,p_ins:place,p_ret:place)\n",
      "deliver(w2:wagon,m1:machine,s1:suitcase,p_ret:place)\n"
     ]
    },
    {
     "name": "stderr",
     "output_type": "stream",
     "text": [
      "100%|██████████| 1000/1000 [05:50<00:00,  2.86it/s]\n"
     ]
    },
    {
     "name": "stdout",
     "output_type": "stream",
     "text": [
      "move(m1:machine,p1:place,p_ins:place)\n",
      "move(m1:machine,p_ins:place,p_ret:place)\n",
      "move(m1:machine,p_ret:place,p6:place)\n",
      "attach_to_empty(w2:wagon,m1:machine,p6:place)\n",
      "move(m1:machine,p6:place,p_ret:place)\n",
      "move(m1:machine,p_ret:place,p_ins:place)\n",
      "move(m1:machine,p_ins:place,p1:place)\n",
      "attach(w1:wagon,w2:wagon,m1:machine,p1:place)\n",
      "move(m1:machine,p1:place,p_ins:place)\n",
      "move(m1:machine,p_ins:place,p_fac:place)\n",
      "detach_from_wagon(w1:wagon,w2:wagon,m1:machine,p_fac:place)\n",
      "move(m1:machine,p_fac:place,p2:place)\n",
      "load(w2:wagon,m1:machine,s1:suitcase,p2:place)\n",
      "move(m1:machine,p2:place,p1:place)\n",
      "move(m1:machine,p1:place,p_ins:place)\n",
      "unload(w2:wagon,m1:machine,s1:suitcase,p_ins:place)\n",
      "inspect(s1:suitcase,p_ins:place)\n",
      "load(w2:wagon,m1:machine,s1:suitcase,p_ins:place)\n",
      "move(m1:machine,p_ins:place,p_ret:place)\n",
      "deliver(w2:wagon,m1:machine,s1:suitcase,p_ret:place)\n"
     ]
    },
    {
     "name": "stderr",
     "output_type": "stream",
     "text": [
      "100%|██████████| 1000/1000 [04:33<00:00,  3.65it/s]\n"
     ]
    },
    {
     "name": "stdout",
     "output_type": "stream",
     "text": [
      "move(m1:machine,p1:place,p_ins:place)\n",
      "move(m1:machine,p_ins:place,p5:place)\n",
      "move(m1:machine,p5:place,p6:place)\n",
      "attach_to_empty(w2:wagon,m1:machine,p6:place)\n",
      "move(m1:machine,p6:place,p_ret:place)\n",
      "move(m1:machine,p_ret:place,p_ins:place)\n",
      "move(m1:machine,p_ins:place,p1:place)\n",
      "attach(w1:wagon,w2:wagon,m1:machine,p1:place)\n",
      "move(m1:machine,p1:place,p2:place)\n",
      "load(w2:wagon,m1:machine,s1:suitcase,p2:place)\n",
      "move(m1:machine,p2:place,p1:place)\n",
      "move(m1:machine,p1:place,p_ins:place)\n",
      "unload(w2:wagon,m1:machine,s1:suitcase,p_ins:place)\n",
      "inspect(s1:suitcase,p_ins:place)\n",
      "load(w1:wagon,m1:machine,s1:suitcase,p_ins:place)\n",
      "move(m1:machine,p_ins:place,p_ret:place)\n",
      "deliver(w1:wagon,m1:machine,s1:suitcase,p_ret:place)\n"
     ]
    },
    {
     "name": "stderr",
     "output_type": "stream",
     "text": [
      "100%|██████████| 1000/1000 [05:35<00:00,  2.98it/s]"
     ]
    },
    {
     "name": "stdout",
     "output_type": "stream",
     "text": [
      "attach_to_empty(w1:wagon,m1:machine,p1:place)\n",
      "move(m1:machine,p1:place,p_ins:place)\n",
      "move(m1:machine,p_ins:place,p_ret:place)\n",
      "detach_from_machine(w1:wagon,m1:machine,p_ret:place)\n",
      "move(m1:machine,p_ret:place,p6:place)\n",
      "attach_to_empty(w2:wagon,m1:machine,p6:place)\n",
      "move(m1:machine,p6:place,p_ret:place)\n",
      "move(m1:machine,p_ret:place,p_fac:place)\n",
      "move(m1:machine,p_fac:place,p2:place)\n",
      "load(w2:wagon,m1:machine,s1:suitcase,p2:place)\n",
      "move(m1:machine,p2:place,p_fac:place)\n",
      "move(m1:machine,p_fac:place,p_ins:place)\n",
      "unload(w2:wagon,m1:machine,s1:suitcase,p_ins:place)\n",
      "inspect(s1:suitcase,p_ins:place)\n",
      "load(w2:wagon,m1:machine,s1:suitcase,p_ins:place)\n",
      "move(m1:machine,p_ins:place,p_ret:place)\n",
      "deliver(w2:wagon,m1:machine,s1:suitcase,p_ret:place)\n"
     ]
    },
    {
     "name": "stderr",
     "output_type": "stream",
     "text": [
      "\n"
     ]
    }
   ],
   "source": [
    "from qlearning import qlearning_experiment\n",
    "import pandas as pd\n",
    "\n",
    "\n",
    "log_df = pd.DataFrame(columns=['lr', 'epsilon', 'gamma', 'plan_length'])\n",
    "\n",
    "lrs = [0.1, 0.2, 0.3, 0.4, 0.5]\n",
    "epsilons = [0.7, 0.8, 0.9, 0.99]\n",
    "gammas = [0.9, 0.95, 0.98, 0.99]\n",
    "\n",
    "\n",
    "for lr in lrs:\n",
    "    plan = qlearning_experiment(learning_rate=lr, epsilon=0.99, gamma=0.99, decay=0.99)\n",
    "    log_df = pd.concat([log_df, pd.DataFrame({'lr': lr, 'gamma': 0.99, 'epsilon': 0.99, 'plan_length': len(plan)} , index=[0] )])\n",
    "\n",
    "# for epsilon in epsilons:\n",
    "#     plan = qlearning_experiment(learning_rate=0.2, epsilon=epsilon, gamma=0.99, decay=0.99)\n",
    "#     log_df = pd.concat( [ log_df, pd.DataFrame({'lr': 0.2, 'gamma': 0.99, 'epsilon': epsilon, 'plan_length': len(plan)} , index=[0] )])\n",
    "\n",
    "# for gamma in gammas:\n",
    "#     plan = qlearning_experiment(learning_rate=0.2, epsilon=0.99, gamma=gamma, decay=0.99)\n",
    "#     log_df = pd.concat( [ log_df, pd.DataFrame({'lr': 0.2, 'gamma': gamma, 'epsilon': 0.99, 'plan_length': len(plan)} , index=[0] ) ] )\n",
    "\n",
    "\n",
    "log_df.to_csv('qlearning_log_lr.csv', index=False)"
   ]
  },
  {
   "cell_type": "code",
   "execution_count": 21,
   "metadata": {},
   "outputs": [
    {
     "data": {
      "image/png": "[encoded data removed]",
      "text/plain": [
       "<Figure size 640x480 with 1 Axes>"
      ]
     },
     "metadata": {},
     "output_type": "display_data"
    }
   ],
   "source": [
    "import seaborn as sns\n",
    "import matplotlib.pyplot as plt\n",
    "\n",
    "def plot_log(log_df, param):\n",
    "    ax = sns.lineplot(x=param, y='plan_length', data=log_df)\n",
    "    ax.set_xticks(log_df[param])\n",
    "    ax.set_xticklabels(log_df[param])\n",
    "    \n",
    "    \n",
    "    plt.show()\n",
    "\n",
    "plot_log(log_df, 'lr')\n",
    "\n"
   ]
  },
  {
   "cell_type": "code",
   "execution_count": 23,
   "metadata": {},
   "outputs": [
    {
     "data": {
      "text/html": [
       "<div>\n",
       "<style scoped>\n",
       "    .dataframe tbody tr th:only-of-type {\n",
       "        vertical-align: middle;\n",
       "    }\n",
       "\n",
       "    .dataframe tbody tr th {\n",
       "        vertical-align: top;\n",
       "    }\n",
       "\n",
       "    .dataframe thead th {\n",
       "        text-align: right;\n",
       "    }\n",
       "</style>\n",
       "<table border=\"1\" class=\"dataframe\">\n",
       "  <thead>\n",
       "    <tr style=\"text-align: right;\">\n",
       "      <th></th>\n",
       "      <th>lr</th>\n",
       "      <th>epsilon</th>\n",
       "      <th>gamma</th>\n",
       "      <th>plan_length</th>\n",
       "    </tr>\n",
       "  </thead>\n",
       "  <tbody>\n",
       "    <tr>\n",
       "      <th>0</th>\n",
       "      <td>0.1</td>\n",
       "      <td>0.99</td>\n",
       "      <td>0.99</td>\n",
       "      <td>10</td>\n",
       "    </tr>\n",
       "    <tr>\n",
       "      <th>1</th>\n",
       "      <td>0.2</td>\n",
       "      <td>0.99</td>\n",
       "      <td>0.99</td>\n",
       "      <td>17</td>\n",
       "    </tr>\n",
       "    <tr>\n",
       "      <th>2</th>\n",
       "      <td>0.3</td>\n",
       "      <td>0.99</td>\n",
       "      <td>0.99</td>\n",
       "      <td>20</td>\n",
       "    </tr>\n",
       "    <tr>\n",
       "      <th>3</th>\n",
       "      <td>0.4</td>\n",
       "      <td>0.99</td>\n",
       "      <td>0.99</td>\n",
       "      <td>17</td>\n",
       "    </tr>\n",
       "    <tr>\n",
       "      <th>4</th>\n",
       "      <td>0.5</td>\n",
       "      <td>0.99</td>\n",
       "      <td>0.99</td>\n",
       "      <td>17</td>\n",
       "    </tr>\n",
       "  </tbody>\n",
       "</table>\n",
       "</div>"
      ],
      "text/plain": [
       "    lr  epsilon  gamma  plan_length\n",
       "0  0.1     0.99   0.99           10\n",
       "1  0.2     0.99   0.99           17\n",
       "2  0.3     0.99   0.99           20\n",
       "3  0.4     0.99   0.99           17\n",
       "4  0.5     0.99   0.99           17"
      ]
     },
     "execution_count": 23,
     "metadata": {},
     "output_type": "execute_result"
    }
   ],
   "source": [
    "pd.read_csv('qlearning_log_lr.csv')"
   ]
  },
  {
   "cell_type": "code",
   "execution_count": null,
   "metadata": {},
   "outputs": [],
   "source": []
  },
  {
   "cell_type": "code",
   "execution_count": null,
   "metadata": {},
   "outputs": [],
   "source": []
  },
  {
   "cell_type": "code",
   "execution_count": null,
   "metadata": {},
   "outputs": [],
   "source": []
  }
 ],
 "metadata": {
  "kernelspec": {
   "display_name": "pddl",
   "language": "python",
   "name": "python3"
  },
  "language_info": {
   "codemirror_mode": {
    "name": "ipython",
    "version": 3
   },
   "file_extension": ".py",
   "mimetype": "text/x-python",
   "name": "python",
   "nbconvert_exporter": "python",
   "pygments_lexer": "ipython3",
   "version": "3.9.18"
  }
 },
 "nbformat": 4,
 "nbformat_minor": 2
}
